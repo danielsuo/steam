{
 "cells": [
  {
   "cell_type": "code",
   "execution_count": 1,
   "metadata": {},
   "outputs": [
    {
     "name": "stdout",
     "output_type": "stream",
     "text": [
      "The autoreload extension is already loaded. To reload it, use:\n",
      "  %reload_ext autoreload\n"
     ]
    }
   ],
   "source": [
    "%load_ext autoreload\n",
    "%autoreload 2\n",
    "%matplotlib inline\n",
    "\n",
    "import steam\n",
    "from jax import grad, jit, jvp, vmap\n",
    "import jax.numpy as np\n",
    "import matplotlib\n",
    "import matplotlib.pyplot as plt\n",
    "from functools import partial\n",
    "\n",
    "matplotlib.rc('text', usetex=True)\n",
    "plt.rcParams[\"figure.figsize\"] = (20, 10)\n",
    "\n",
    "font = {'family' : 'normal',\n",
    "        'weight' : 'bold',\n",
    "        'size'   : 22}\n",
    "\n",
    "matplotlib.rc('font', **font)"
   ]
  },
  {
   "cell_type": "code",
   "execution_count": 2,
   "metadata": {},
   "outputs": [
    {
     "name": "stderr",
     "output_type": "stream",
     "text": [
      "/Users/danielsuo/miniconda3/lib/python3.7/site-packages/jax/lib/xla_bridge.py:115: UserWarning: No GPU/TPU found, falling back to CPU.\n",
      "  warnings.warn('No GPU/TPU found, falling back to CPU.')\n"
     ]
    }
   ],
   "source": [
    "rho = np.linspace(1, 1000, num=1000)"
   ]
  },
  {
   "cell_type": "code",
   "execution_count": 3,
   "metadata": {},
   "outputs": [],
   "source": [
    "f = steam.f(rho, 373)"
   ]
  },
  {
   "cell_type": "code",
   "execution_count": 4,
   "metadata": {},
   "outputs": [
    {
     "data": {
      "text/plain": [
       "Text(0, 0.5, '$f(\\\\rho, T)$')"
      ]
     },
     "execution_count": 4,
     "metadata": {},
     "output_type": "execute_result"
    },
    {
     "data": {
      "image/png": "[encoded data removed]",
      "text/plain": [
       "<Figure size 432x288 with 1 Axes>"
      ]
     },
     "metadata": {
      "needs_background": "light"
     },
     "output_type": "display_data"
    }
   ],
   "source": [
    "plt.plot(rho, f)\n",
    "plt.xlabel(r\"$\\rho\\ (kg / m^3)$\")\n",
    "plt.ylabel(r\"$f(\\rho, T)$\")"
   ]
  },
  {
   "cell_type": "code",
   "execution_count": 5,
   "metadata": {},
   "outputs": [],
   "source": [
    "f = steam.f(rho, 273)"
   ]
  },
  {
   "cell_type": "code",
   "execution_count": 6,
   "metadata": {},
   "outputs": [
    {
     "data": {
      "text/plain": [
       "Text(0, 0.5, '$f(\\\\rho, T)$')"
      ]
     },
     "execution_count": 6,
     "metadata": {},
     "output_type": "execute_result"
    },
    {
     "data": {
      "image/png": "[encoded data removed]",
      "text/plain": [
       "<Figure size 432x288 with 1 Axes>"
      ]
     },
     "metadata": {
      "needs_background": "light"
     },
     "output_type": "display_data"
    }
   ],
   "source": [
    "plt.plot(rho, f)\n",
    "plt.xlabel(r\"$\\rho\\ (kg / m^3)$\")\n",
    "plt.ylabel(r\"$f(\\rho, T)$\")"
   ]
  },
  {
   "cell_type": "code",
   "execution_count": 7,
   "metadata": {},
   "outputs": [],
   "source": [
    "def f_parts(rho, T):\n",
    "    delta = rho / steam.rho_c\n",
    "    tau = steam.T_c / T\n",
    "    print(steam.R, T, steam.phi_o(delta, tau), steam.phi_r(delta, tau), steam.f(rho, T))"
   ]
  },
  {
   "cell_type": "code",
   "execution_count": 8,
   "metadata": {},
   "outputs": [
    {
     "name": "stdout",
     "output_type": "stream",
     "text": [
      "0.46151805 500 2.047978 -3.4269326 -318.2062\n"
     ]
    }
   ],
   "source": [
    "f_parts(838.025, 500)"
   ]
  },
  {
   "cell_type": "code",
   "execution_count": 9,
   "metadata": {},
   "outputs": [],
   "source": [
    "def partial_delta(func):\n",
    "    return lambda delta, tau: jvp(partial(func, tau), (delta,) , (eye[0],) )[1]\n",
    "\n",
    "def partial_tau(func):\n",
    "    return lambda delta, tau: jvp(partial(func, delta), (tau,) , (eye[0],) )[1]\n",
    "\n",
    "eye = np.eye(1)\n",
    "\n",
    "dphi0_ddelta = lambda delta, tau: jvp(partial(steam.phi_o, tau), (delta,) , (eye[0],) )[1]"
   ]
  },
  {
   "cell_type": "code",
   "execution_count": 10,
   "metadata": {},
   "outputs": [
    {
     "data": {
      "text/plain": [
       "DeviceArray(9.046111, dtype=float32)"
      ]
     },
     "execution_count": 10,
     "metadata": {},
     "output_type": "execute_result"
    },
    {
     "data": {
      "image/png": "[encoded data removed]",
      "text/plain": [
       "<Figure size 432x288 with 1 Axes>"
      ]
     },
     "metadata": {
      "needs_background": "light"
     },
     "output_type": "display_data"
    }
   ],
   "source": [
    "x = np.linspace(-2.0, 2.0, num=1000)\n",
    "plt.plot(x, vmap(grad(steam.phi_o, 0), (0, None), 1)(x, 0))\n",
    "grad(steam.phi_o, 1)(838.025 / steam.rho_c, steam.T_c / 500)"
   ]
  },
  {
   "cell_type": "code",
   "execution_count": 11,
   "metadata": {},
   "outputs": [],
   "source": [
    "def f(x, y):\n",
    "    return 2*x + y"
   ]
  },
  {
   "cell_type": "code",
   "execution_count": 12,
   "metadata": {},
   "outputs": [
    {
     "data": {
      "text/plain": [
       "array(1., dtype=float32)"
      ]
     },
     "execution_count": 12,
     "metadata": {},
     "output_type": "execute_result"
    }
   ],
   "source": [
    "grad(f, 1)(1.0, 100.0)"
   ]
  },
  {
   "cell_type": "code",
   "execution_count": 13,
   "metadata": {},
   "outputs": [
    {
     "name": "stdout",
     "output_type": "stream",
     "text": [
      "0.38423672\n",
      "-0.14763787\n",
      "9.046111\n",
      "-1.9324919\n",
      "0.0\n",
      "0.0\n",
      "-0.36436608\n",
      "0.8560681\n",
      "-5.814035\n",
      "-2.234405\n",
      "-1.1217631\n",
      "-1.1217638\n"
     ]
    }
   ],
   "source": [
    "print(grad(steam.phi_o, 0)(838.025 / steam.rho_c, steam.T_c / 500))\n",
    "print(grad(grad(steam.phi_o, 0), 0)(838.025 / steam.rho_c, steam.T_c / 500))\n",
    "print(grad(steam.phi_o, 1)(838.025 / steam.rho_c, steam.T_c / 500))\n",
    "print(grad(grad(steam.phi_o, 1), 1)(838.025 / steam.rho_c, steam.T_c / 500))\n",
    "print(grad(grad(steam.phi_o, 1), 0)(838.025 / steam.rho_c, steam.T_c / 500))\n",
    "print(grad(grad(steam.phi_o, 0), 1)(838.025 / steam.rho_c, steam.T_c / 500))\n",
    "\n",
    "print(grad(steam.phi_r, 0)(838.025 / steam.rho_c, steam.T_c / 500))\n",
    "print(grad(grad(steam.phi_r, 0), 0)(838.025 / steam.rho_c, steam.T_c / 500))\n",
    "print(grad(steam.phi_r, 1)(838.025 / steam.rho_c, steam.T_c / 500))\n",
    "print(grad(grad(steam.phi_r, 1), 1)(838.025 / steam.rho_c, steam.T_c / 500))\n",
    "print(grad(grad(steam.phi_r, 1), 0)(838.025 / steam.rho_c, steam.T_c / 500))\n",
    "print(grad(grad(steam.phi_r, 0), 1)(838.025 / steam.rho_c, steam.T_c / 500))"
   ]
  },
  {
   "cell_type": "code",
   "execution_count": 19,
   "metadata": {},
   "outputs": [
    {
     "data": {
      "text/plain": [
       "DeviceArray(10000.664, dtype=float32)"
      ]
     },
     "execution_count": 19,
     "metadata": {},
     "output_type": "execute_result"
    }
   ],
   "source": [
    "steam.p(838.025 / steam.rho_c, steam.T_c / 500)"
   ]
  },
  {
   "cell_type": "code",
   "execution_count": 20,
   "metadata": {},
   "outputs": [
    {
     "data": {
      "text/plain": [
       "DeviceArray(97.67017, dtype=float32)"
      ]
     },
     "execution_count": 20,
     "metadata": {},
     "output_type": "execute_result"
    }
   ],
   "source": [
    "steam.p(996.556 / steam.rho_c, steam.T_c / 300)"
   ]
  },
  {
   "cell_type": "code",
   "execution_count": null,
   "metadata": {},
   "outputs": [],
   "source": []
  }
 ],
 "metadata": {
  "kernelspec": {
   "display_name": "Python 3",
   "language": "python",
   "name": "python3"
  },
  "language_info": {
   "codemirror_mode": {
    "name": "ipython",
    "version": 3
   },
   "file_extension": ".py",
   "mimetype": "text/x-python",
   "name": "python",
   "nbconvert_exporter": "python",
   "pygments_lexer": "ipython3",
   "version": "3.7.3"
  }
 },
 "nbformat": 4,
 "nbformat_minor": 2
}
